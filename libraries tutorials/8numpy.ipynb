{
 "cells": [
  {
   "cell_type": "code",
   "execution_count": 101,
   "metadata": {},
   "outputs": [],
   "source": [
    "#NumPy - Numerical Python\n",
    "#NumPy is a Python library used for working with arrays.\n",
    "#Advatanges of working wiht NumPy Arrays.\n",
    "# 1) NumPy is faster than Python List\n",
    "# 2) NumPy uses less memory to store data\n",
    "# 3) Faster operations on NumPy Arrays"
   ]
  },
  {
   "cell_type": "code",
   "execution_count": 1,
   "metadata": {},
   "outputs": [],
   "source": [
    "import numpy as np"
   ]
  },
  {
   "cell_type": "code",
   "execution_count": 103,
   "metadata": {},
   "outputs": [],
   "source": [
    "# List vs NumPy time taken to perform the same operation\n",
    "from time import process_time"
   ]
  },
  {
   "cell_type": "code",
   "execution_count": 104,
   "metadata": {},
   "outputs": [
    {
     "name": "stdout",
     "output_type": "stream",
     "text": [
      "Time taken by List:  0.0006769999999995946\n"
     ]
    }
   ],
   "source": [
    "# Time taken by List\n",
    "pythonLst = [i for i in range(10000)]\n",
    "startTime = process_time()\n",
    "\n",
    "pythonLst = [i+5 for i in pythonLst]\n",
    "endTime = process_time()\n",
    "\n",
    "amnTime = endTime - startTime\n",
    "print(\"Time taken by List: \", amnTime)"
   ]
  },
  {
   "cell_type": "code",
   "execution_count": 105,
   "metadata": {},
   "outputs": [
    {
     "name": "stdout",
     "output_type": "stream",
     "text": [
      "Time taken by NumPy:  0.00045800000000006946\n"
     ]
    }
   ],
   "source": [
    "#Time taken by NumPy\n",
    "npArr = np.array([i for i in range(10000)])\n",
    "startTime = process_time()\n",
    "\n",
    "npArr += 5\n",
    "endTime = process_time()\n",
    "\n",
    "amnTime = endTime - startTime\n",
    "print(\"Time taken by NumPy: \", amnTime)"
   ]
  },
  {
   "cell_type": "code",
   "execution_count": 106,
   "metadata": {},
   "outputs": [
    {
     "name": "stdout",
     "output_type": "stream",
     "text": [
      "[1, 2, 3, 4, 5]\n"
     ]
    },
    {
     "data": {
      "text/plain": [
       "list"
      ]
     },
     "execution_count": 106,
     "metadata": {},
     "output_type": "execute_result"
    }
   ],
   "source": [
    "#NumPy Arrays\n",
    "#list \n",
    "\n",
    "lst = [1,2,3,4,5] \n",
    "print(lst) #values are seprated by commas\n",
    "type(lst)"
   ]
  },
  {
   "cell_type": "code",
   "execution_count": 107,
   "metadata": {},
   "outputs": [
    {
     "name": "stdout",
     "output_type": "stream",
     "text": [
      "[1 2 3 4 5]\n"
     ]
    },
    {
     "data": {
      "text/plain": [
       "numpy.ndarray"
      ]
     },
     "execution_count": 107,
     "metadata": {},
     "output_type": "execute_result"
    }
   ],
   "source": [
    "#NumPy Array\n",
    "arr = np.array([1,2,3,4,5]) \n",
    "print(arr) #values are not seprated by comma\n",
    "type(arr) #numpy.ndarray , n-dimensional array"
   ]
  },
  {
   "cell_type": "code",
   "execution_count": 108,
   "metadata": {},
   "outputs": [
    {
     "name": "stdout",
     "output_type": "stream",
     "text": [
      "[1 2 3 4 5]\n"
     ]
    },
    {
     "data": {
      "text/plain": [
       "(5,)"
      ]
     },
     "execution_count": 108,
     "metadata": {},
     "output_type": "execute_result"
    }
   ],
   "source": [
    "#creating a 1-D Array\n",
    "\n",
    "arr1 = np.array([1,2,3,4,5])\n",
    "print(arr1)\n",
    "arr1.shape #5 coulmns and 1 row"
   ]
  },
  {
   "cell_type": "code",
   "execution_count": 109,
   "metadata": {},
   "outputs": [
    {
     "name": "stdout",
     "output_type": "stream",
     "text": [
      "[[ 1  2  3]\n",
      " [ 4  5  6]\n",
      " [ 7  8  9]\n",
      " [10 11 12]]\n"
     ]
    },
    {
     "data": {
      "text/plain": [
       "(4, 3)"
      ]
     },
     "execution_count": 109,
     "metadata": {},
     "output_type": "execute_result"
    }
   ],
   "source": [
    "# creating a 2-D Array\n",
    "\n",
    "arr2 = np.array([(1,2,3),(4,5,6),(7,8,9),(10,11,12)]) #instead of () we could also use []\n",
    "print(arr2)\n",
    "arr2.shape #(4,3) -> (rows,columns) 4 rows and 3 columns"
   ]
  },
  {
   "cell_type": "code",
   "execution_count": 110,
   "metadata": {},
   "outputs": [
    {
     "name": "stdout",
     "output_type": "stream",
     "text": [
      "[[1. 2. 3. 4.]\n",
      " [5. 6. 7. 9.]]\n"
     ]
    }
   ],
   "source": [
    "arr3 = np.array([[1,2,3,4],[5,6,7,9]], dtype='float')\n",
    "print(arr3)\n"
   ]
  },
  {
   "cell_type": "code",
   "execution_count": 111,
   "metadata": {},
   "outputs": [
    {
     "name": "stdout",
     "output_type": "stream",
     "text": [
      "[[0 0 0 0 0]\n",
      " [0 0 0 0 0]\n",
      " [0 0 0 0 0]\n",
      " [0 0 0 0 0]]\n"
     ]
    }
   ],
   "source": [
    "#Initial Placeholders in NumPy Arrays\n",
    "#creating a numpy array with all zeros\n",
    "\n",
    "x = np.zeros((4,5), dtype=int)\n",
    "print(x)"
   ]
  },
  {
   "cell_type": "code",
   "execution_count": 112,
   "metadata": {},
   "outputs": [
    {
     "name": "stdout",
     "output_type": "stream",
     "text": [
      "[[1 1 1 1]\n",
      " [1 1 1 1]\n",
      " [1 1 1 1]]\n"
     ]
    }
   ],
   "source": [
    "#creating npmoy array with all ones\n",
    "\n",
    "y = np.ones((3,4), dtype=int)\n",
    "print(y)"
   ]
  },
  {
   "cell_type": "code",
   "execution_count": 113,
   "metadata": {},
   "outputs": [
    {
     "name": "stdout",
     "output_type": "stream",
     "text": [
      "[[5 5 5 5]\n",
      " [5 5 5 5]\n",
      " [5 5 5 5]\n",
      " [5 5 5 5]\n",
      " [5 5 5 5]]\n"
     ]
    }
   ],
   "source": [
    "#creating a numpy array with a particular number\n",
    "\n",
    "z = np.full((5,4),5 ,dtype=int)\n",
    "print(z)"
   ]
  },
  {
   "cell_type": "code",
   "execution_count": 114,
   "metadata": {},
   "outputs": [
    {
     "name": "stdout",
     "output_type": "stream",
     "text": [
      "[[1 0 0 0 0]\n",
      " [0 1 0 0 0]\n",
      " [0 0 1 0 0]\n",
      " [0 0 0 1 0]\n",
      " [0 0 0 0 1]]\n"
     ]
    }
   ],
   "source": [
    "#create an identity matrix\n",
    "\n",
    "a =np.eye(5 , dtype=int)\n",
    "print(a)"
   ]
  },
  {
   "cell_type": "code",
   "execution_count": 115,
   "metadata": {},
   "outputs": [
    {
     "name": "stdout",
     "output_type": "stream",
     "text": [
      "[[0.69537446 0.39119789 0.25282644 0.20463775]\n",
      " [0.40198445 0.09239871 0.9362837  0.04073165]\n",
      " [0.58203179 0.29741728 0.08792938 0.37719986]]\n"
     ]
    }
   ],
   "source": [
    "#create a numPy Array with randome vlues\n",
    "\n",
    "b = np.random.random((3,4)) #random values between 0 and 1\n",
    "print(b)"
   ]
  },
  {
   "cell_type": "code",
   "execution_count": 10,
   "metadata": {},
   "outputs": [
    {
     "name": "stdout",
     "output_type": "stream",
     "text": [
      "[[2 3 9 4]\n",
      " [9 9 7 4]\n",
      " [8 9 4 9]]\n"
     ]
    }
   ],
   "source": [
    "#create random integor values numpy array\n",
    "\n",
    "c = np.random.randint(1,10, (3,4)) #random values between 1 and 100\n",
    "print(c)"
   ]
  },
  {
   "cell_type": "code",
   "execution_count": 117,
   "metadata": {},
   "outputs": [
    {
     "name": "stdout",
     "output_type": "stream",
     "text": [
      "[10 14 18 22 26 30]\n"
     ]
    }
   ],
   "source": [
    "#creating NumPy array of evenly spaced values\n",
    "\n",
    "x = np.linspace(10,30,6 ,dtype=int) #start, stop, number of values\n",
    "print(x)"
   ]
  },
  {
   "cell_type": "code",
   "execution_count": 5,
   "metadata": {},
   "outputs": [
    {
     "name": "stdout",
     "output_type": "stream",
     "text": [
      "[10 15 20 25]\n",
      "[0 1 2 3 4]\n"
     ]
    }
   ],
   "source": [
    "#evenly spaced values with a step\n",
    "\n",
    "y = np.arange(10,30,5) #start, stop, step\n",
    "print(y)\n",
    "\n",
    "z = np.arange(5) \n",
    "print(z)"
   ]
  },
  {
   "cell_type": "code",
   "execution_count": 119,
   "metadata": {},
   "outputs": [
    {
     "name": "stdout",
     "output_type": "stream",
     "text": [
      "[10 20 30 40 50]\n"
     ]
    },
    {
     "data": {
      "text/plain": [
       "numpy.ndarray"
      ]
     },
     "execution_count": 119,
     "metadata": {},
     "output_type": "execute_result"
    }
   ],
   "source": [
    "#convert a list to a NumPy Array\n",
    "\n",
    "lst = [10,20,30,40,50]\n",
    "npArr = np.asarray(lst)\n",
    "print(npArr)\n",
    "type(npArr)"
   ]
  },
  {
   "cell_type": "code",
   "execution_count": 120,
   "metadata": {},
   "outputs": [
    {
     "name": "stdout",
     "output_type": "stream",
     "text": [
      "[ 10 120 130 140 150]\n"
     ]
    },
    {
     "data": {
      "text/plain": [
       "numpy.ndarray"
      ]
     },
     "execution_count": 120,
     "metadata": {},
     "output_type": "execute_result"
    }
   ],
   "source": [
    "#convert tuple to NumPy Array\n",
    "\n",
    "tpl = (10,120,130,140,150)\n",
    "npArr = np.asarray(tpl)\n",
    "print(npArr)\n",
    "type(npArr)"
   ]
  },
  {
   "cell_type": "code",
   "execution_count": 7,
   "metadata": {},
   "outputs": [
    {
     "name": "stdout",
     "output_type": "stream",
     "text": [
      "[[46 54 62 70 11]\n",
      " [84 49 17 19 50]\n",
      " [62 31 33 67 71]\n",
      " [24 60 41 14 20]\n",
      " [31 80 58 76 83]]\n",
      "[15 16 15 15 12]\n"
     ]
    }
   ],
   "source": [
    "#Anlyzing NumPy Array\n",
    "c = np.random.randint(10,90,(5,5))\n",
    "print(c)\n",
    "\n",
    "d = np.random.randint(10,20,5) #1-D array\n",
    "print(d)"
   ]
  },
  {
   "cell_type": "code",
   "execution_count": 122,
   "metadata": {},
   "outputs": [
    {
     "data": {
      "text/plain": [
       "(5, 5)"
      ]
     },
     "execution_count": 122,
     "metadata": {},
     "output_type": "execute_result"
    }
   ],
   "source": [
    "#array dimensions\n",
    "c.shape"
   ]
  },
  {
   "cell_type": "code",
   "execution_count": 123,
   "metadata": {},
   "outputs": [
    {
     "data": {
      "text/plain": [
       "2"
      ]
     },
     "execution_count": 123,
     "metadata": {},
     "output_type": "execute_result"
    }
   ],
   "source": [
    "#number of dimensions\n",
    "c.ndim"
   ]
  },
  {
   "cell_type": "code",
   "execution_count": 124,
   "metadata": {},
   "outputs": [
    {
     "data": {
      "text/plain": [
       "25"
      ]
     },
     "execution_count": 124,
     "metadata": {},
     "output_type": "execute_result"
    }
   ],
   "source": [
    "#number of elements\n",
    "c.size"
   ]
  },
  {
   "cell_type": "code",
   "execution_count": 125,
   "metadata": {},
   "outputs": [
    {
     "data": {
      "text/plain": [
       "dtype('int64')"
      ]
     },
     "execution_count": 125,
     "metadata": {},
     "output_type": "execute_result"
    }
   ],
   "source": [
    "#checking the datatype of values in the array\n",
    "c.dtype"
   ]
  },
  {
   "cell_type": "code",
   "execution_count": 126,
   "metadata": {},
   "outputs": [
    {
     "name": "stdout",
     "output_type": "stream",
     "text": [
      "[1, 2, 3, 4, 5, 6, 7, 8, 9, 10]\n"
     ]
    }
   ],
   "source": [
    "#Mathematical Operations on NumPy Arrays\n",
    "\n",
    "list1 = [1,2,3,4,5]\n",
    "list2 = [6,7,8,9,10]\n",
    "\n",
    "print(list1 + list2) #concatenation of two lists"
   ]
  },
  {
   "cell_type": "code",
   "execution_count": 127,
   "metadata": {},
   "outputs": [
    {
     "name": "stdout",
     "output_type": "stream",
     "text": [
      "[[9 9 9]\n",
      " [4 9 3]\n",
      " [6 4 4]]\n",
      "[[13 18 11]\n",
      " [10 19 19]\n",
      " [16 12 18]]\n",
      "[[22 27 20]\n",
      " [14 28 22]\n",
      " [22 16 22]]\n",
      "[[22 27 20]\n",
      " [14 28 22]\n",
      " [22 16 22]]\n",
      "[[ -4  -9  -2]\n",
      " [ -6 -10 -16]\n",
      " [-10  -8 -14]]\n",
      "[[ -4  -9  -2]\n",
      " [ -6 -10 -16]\n",
      " [-10  -8 -14]]\n",
      "[[117 162  99]\n",
      " [ 40 171  57]\n",
      " [ 96  48  72]]\n",
      "[[117 162  99]\n",
      " [ 40 171  57]\n",
      " [ 96  48  72]]\n",
      "[[0.69230769 0.5        0.81818182]\n",
      " [0.4        0.47368421 0.15789474]\n",
      " [0.375      0.33333333 0.22222222]]\n",
      "[[0.69230769 0.5        0.81818182]\n",
      " [0.4        0.47368421 0.15789474]\n",
      " [0.375      0.33333333 0.22222222]]\n"
     ]
    }
   ],
   "source": [
    "a = np.random.randint(0,10,(3,3))\n",
    "b = np.random.randint(10,20,(3,3))\n",
    "print(a)\n",
    "print(b)\n",
    "\n",
    "#Addition of two NumPy Arrays\n",
    "print(a + b)\n",
    "#other way of adding two numpy arrays\n",
    "print(np.add(a,b))\n",
    "\n",
    "#Subtraction of two NumPy Arrays\n",
    "print(a - b)\n",
    "#other way of subtracting two numpy arrays\n",
    "print(np.subtract(a,b))\n",
    "\n",
    "#Multiplication of two NumPy Arrays (element wise)\n",
    "print(a * b)\n",
    "#other way of multiplying two numpy arrays\n",
    "print(np.multiply(a,b))\n",
    "\n",
    "#Division of two NumPy Arrays (element wise)\n",
    "print(a / b)\n",
    "#other way of dividing two numpy arrays\n",
    "print(np.divide(a,b))\n"
   ]
  },
  {
   "cell_type": "code",
   "execution_count": 128,
   "metadata": {},
   "outputs": [
    {
     "name": "stdout",
     "output_type": "stream",
     "text": [
      "[[5 5 7]\n",
      " [0 6 7]]\n",
      "(2, 3)\n",
      "[[5 0]\n",
      " [5 6]\n",
      " [7 7]]\n",
      "(3, 2)\n"
     ]
    }
   ],
   "source": [
    "#Array Manipulation\n",
    "\n",
    "npArr = np.random.randint(0,10,(2,3))\n",
    "print(npArr)\n",
    "print(npArr.shape)\n",
    "\n",
    "#transpose of an array\n",
    "tranArray = np.transpose(npArr)\n",
    "print(tranArray)\n",
    "print(tranArray.shape)"
   ]
  },
  {
   "cell_type": "code",
   "execution_count": 129,
   "metadata": {},
   "outputs": [
    {
     "name": "stdout",
     "output_type": "stream",
     "text": [
      "[[4 7 8]\n",
      " [3 5 2]]\n",
      "(2, 3)\n",
      "[[4 3]\n",
      " [7 5]\n",
      " [8 2]]\n",
      "(3, 2)\n"
     ]
    }
   ],
   "source": [
    "#Another way to find transpose\n",
    "npArr = np.random.randint(0,10,(2,3))\n",
    "print(npArr)\n",
    "print(npArr.shape)\n",
    "\n",
    "npArr2 = npArr.T\n",
    "print(npArr2)\n",
    "print(npArr2.shape)\n"
   ]
  },
  {
   "cell_type": "code",
   "execution_count": 130,
   "metadata": {},
   "outputs": [
    {
     "name": "stdout",
     "output_type": "stream",
     "text": [
      "[[1 8 6]\n",
      " [0 8 1]]\n",
      "(2, 3)\n",
      "[[1 8]\n",
      " [6 0]\n",
      " [8 1]]\n",
      "(3, 2)\n"
     ]
    }
   ],
   "source": [
    "#Reshape an array\n",
    "npArr = np.random.randint(0,10,(2,3))\n",
    "print(npArr)\n",
    "print(npArr.shape)\n",
    "\n",
    "b = npArr.reshape(3,2) #Not Like transpose\n",
    "print(b)\n",
    "print(b.shape) "
   ]
  }
 ],
 "metadata": {
  "kernelspec": {
   "display_name": "Python 3",
   "language": "python",
   "name": "python3"
  },
  "language_info": {
   "codemirror_mode": {
    "name": "ipython",
    "version": 3
   },
   "file_extension": ".py",
   "mimetype": "text/x-python",
   "name": "python",
   "nbconvert_exporter": "python",
   "pygments_lexer": "ipython3",
   "version": "3.12.6"
  }
 },
 "nbformat": 4,
 "nbformat_minor": 2
}
