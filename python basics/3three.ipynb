{
 "cells": [
  {
   "cell_type": "code",
   "execution_count": 2,
   "id": "a959f29c-c268-48ca-b5ad-49dc9b37662f",
   "metadata": {},
   "outputs": [],
   "source": [
    "#Types of Object in Python\n",
    "# 1) Immutable Objects - whose value cannot be changed once created\n",
    "#    a) int\n",
    "#    b) String\n",
    "#    c) Float\n",
    "#    d) Bool\n",
    "#    e) Tuple - ()\n",
    "# 2) Mutable Object - values can be changed once created\n",
    "#    a) List - []\n",
    "#    b) Set - {}\n",
    "#    c) Dictionary  - {key:value}"
   ]
  },
  {
   "cell_type": "code",
   "execution_count": 4,
   "id": "c198da86-e771-47dc-9d0c-cd304c5fe819",
   "metadata": {},
   "outputs": [
    {
     "name": "stdout",
     "output_type": "stream",
     "text": [
      "[1, 2, 3, 4, 5]\n"
     ]
    },
    {
     "data": {
      "text/plain": [
       "list"
      ]
     },
     "execution_count": 4,
     "metadata": {},
     "output_type": "execute_result"
    }
   ],
   "source": [
    "#List\n",
    "#enclosed in []\n",
    "myLst1 = [1,2,3,4,5]\n",
    "print(myLst1)\n",
    "type(myLst1)"
   ]
  },
  {
   "cell_type": "code",
   "execution_count": 5,
   "id": "24fd7e02-5c16-4ab0-a46e-38b62ace8991",
   "metadata": {},
   "outputs": [
    {
     "name": "stdout",
     "output_type": "stream",
     "text": [
      "['Neha', 25]\n"
     ]
    }
   ],
   "source": [
    "#list can have multiple data types\n",
    "myLst2 = [\"Neha\", 25]\n",
    "print(myLst1)"
   ]
  },
  {
   "cell_type": "code",
   "execution_count": 12,
   "id": "062e4dec-67b0-4974-9d73-2b304a356641",
   "metadata": {},
   "outputs": [
    {
     "name": "stdout",
     "output_type": "stream",
     "text": [
      "[1, 2, 3, 4, 5, 6]\n",
      "3\n"
     ]
    }
   ],
   "source": [
    "#add elements to a list\n",
    "myLst3 = [1,2,3,4,5]\n",
    "myLst3.append(6)\n",
    "print(myLst3)\n",
    "\n",
    "#print elements of llist using index\n",
    "print(myLst3[2])"
   ]
  },
  {
   "cell_type": "code",
   "execution_count": 21,
   "id": "a40f1773-229d-41f3-9e02-f2fbd67a6d9e",
   "metadata": {},
   "outputs": [
    {
     "name": "stdout",
     "output_type": "stream",
     "text": [
      "[1, 1, 2, 4, 4, 5, 1, 6]\n"
     ]
    }
   ],
   "source": [
    "#list allows duplicated values wheras set does not allow duplicate values\n",
    "myLst = [1,1,2,4,4,5,1,6]\n",
    "print(myLst)"
   ]
  },
  {
   "cell_type": "code",
   "execution_count": 15,
   "id": "84449ad2-48c3-47ea-991c-510097b414e2",
   "metadata": {},
   "outputs": [
    {
     "name": "stdout",
     "output_type": "stream",
     "text": [
      "8\n"
     ]
    }
   ],
   "source": [
    "# check size of list \n",
    "myLst = [1,1,2,4,4,5,1,6]\n",
    "print(len(myLst))"
   ]
  },
  {
   "cell_type": "code",
   "execution_count": 16,
   "id": "e01b9652-abd9-43cd-8d0c-3f332dfcd41a",
   "metadata": {},
   "outputs": [
    {
     "name": "stdout",
     "output_type": "stream",
     "text": [
      "[]\n",
      "[4]\n"
     ]
    }
   ],
   "source": [
    "#initiating empty list\n",
    "lst2 =[]\n",
    "print(lst2)\n",
    "\n",
    "lst2.append(4)\n",
    "print(lst2)"
   ]
  },
  {
   "cell_type": "code",
   "execution_count": 2,
   "id": "5378868c-6031-4e16-b2e5-f4ab50bceff7",
   "metadata": {},
   "outputs": [
    {
     "name": "stdout",
     "output_type": "stream",
     "text": [
      "[1, 2, 4, 5]\n"
     ]
    }
   ],
   "source": [
    "#delete element from list\n",
    "lst2 = [1,2,3,4,5]\n",
    "del lst2[2]\n",
    "print(lst2)"
   ]
  },
  {
   "cell_type": "code",
   "execution_count": 3,
   "id": "53ad037c",
   "metadata": {},
   "outputs": [
    {
     "name": "stdout",
     "output_type": "stream",
     "text": [
      "[1, 2, 3, 4, 5, 6, 7, 8]\n"
     ]
    }
   ],
   "source": [
    "#join two list\n",
    "lst1 = [1,2,3,4]\n",
    "lst2 = [5,6,7,8]\n",
    "lst3 = lst1 + lst2\n",
    "print(lst3)"
   ]
  },
  {
   "cell_type": "code",
   "execution_count": 5,
   "id": "b221b25e",
   "metadata": {},
   "outputs": [
    {
     "name": "stdout",
     "output_type": "stream",
     "text": [
      "(1, 2, 3, 4, 5)\n"
     ]
    },
    {
     "data": {
      "text/plain": [
       "tuple"
      ]
     },
     "execution_count": 5,
     "metadata": {},
     "output_type": "execute_result"
    }
   ],
   "source": [
    "#Tuple\n",
    "#enclosed in ()\n",
    "#similar as list but immutable object\n",
    "tple1 = (1,2,3,4,5)\n",
    "print(tple1)\n",
    "type(tple1)"
   ]
  },
  {
   "cell_type": "code",
   "execution_count": 6,
   "id": "2855a97f",
   "metadata": {},
   "outputs": [
    {
     "name": "stdout",
     "output_type": "stream",
     "text": [
      "('Neha', 25)\n"
     ]
    }
   ],
   "source": [
    "#tuple can have multiple data types\n",
    "tple2 = (\"Neha\", 25)\n",
    "print(tple2)"
   ]
  },
  {
   "cell_type": "code",
   "execution_count": 9,
   "id": "3f86675e",
   "metadata": {},
   "outputs": [
    {
     "name": "stdout",
     "output_type": "stream",
     "text": [
      "[1, 2, 3, 4, 5]\n",
      "(1, 2, 3, 4, 5)\n"
     ]
    },
    {
     "data": {
      "text/plain": [
       "tuple"
      ]
     },
     "execution_count": 9,
     "metadata": {},
     "output_type": "execute_result"
    }
   ],
   "source": [
    "#converting a list to tuple\n",
    "lst1 = [1,2,3,4,5]\n",
    "print(lst1)\n",
    "\n",
    "tple1 = tuple(lst1)\n",
    "print(tple1)\n",
    "type(tple1)"
   ]
  },
  {
   "cell_type": "code",
   "execution_count": 10,
   "id": "57f92aee",
   "metadata": {},
   "outputs": [
    {
     "name": "stdout",
     "output_type": "stream",
     "text": [
      "3\n"
     ]
    }
   ],
   "source": [
    "#indeexing to print elment of tuple\n",
    "tple1 = (1,2,3,4,5)\n",
    "print(tple1[2])"
   ]
  },
  {
   "cell_type": "code",
   "execution_count": 14,
   "id": "730d4991",
   "metadata": {},
   "outputs": [
    {
     "name": "stdout",
     "output_type": "stream",
     "text": [
      "5\n"
     ]
    }
   ],
   "source": [
    "#size of tuple\n",
    "tple1 = (1,2,3,4,5)\n",
    "print(len(tple1))"
   ]
  },
  {
   "cell_type": "code",
   "execution_count": 19,
   "id": "483bc640",
   "metadata": {},
   "outputs": [
    {
     "name": "stdout",
     "output_type": "stream",
     "text": [
      "{1, 2, 3, 4, 5}\n"
     ]
    },
    {
     "data": {
      "text/plain": [
       "set"
      ]
     },
     "execution_count": 19,
     "metadata": {},
     "output_type": "execute_result"
    }
   ],
   "source": [
    "#Set - Immutable object\n",
    "#enclosed in {}\n",
    "set1 = {1,2,3,4,5}\n",
    "print(set1)\n",
    "type(set1)"
   ]
  },
  {
   "cell_type": "code",
   "execution_count": 18,
   "id": "e07465d0",
   "metadata": {},
   "outputs": [
    {
     "name": "stdout",
     "output_type": "stream",
     "text": [
      "[1, 2, 3, 4, 5]\n",
      "{1, 2, 3, 4, 5}\n"
     ]
    }
   ],
   "source": [
    "#Set does not support indexing\n",
    "#Set does not allow duplicate values ; repeated values atutomatically removed\n",
    "#Convert list to set\n",
    "lst1 = [1,2,3,4,5]\n",
    "print(lst1)\n",
    "set1 = set(lst1)\n",
    "print(set1)\n"
   ]
  },
  {
   "cell_type": "code",
   "execution_count": 23,
   "id": "2ac5f0f5",
   "metadata": {},
   "outputs": [
    {
     "name": "stdout",
     "output_type": "stream",
     "text": [
      "{'Name': 'Neha', 'Age': 25, 'Country': 'India'}\n"
     ]
    },
    {
     "data": {
      "text/plain": [
       "dict"
      ]
     },
     "execution_count": 23,
     "metadata": {},
     "output_type": "execute_result"
    }
   ],
   "source": [
    "#Dictionary - Immutable object\n",
    "#enclosed in {}\n",
    "#key value pair\n",
    "dict1 = {\"Name\":\"Neha\", \"Age\":25, \"Country\":\"India\"}\n",
    "print(dict1)\n",
    "type(dict1)"
   ]
  },
  {
   "cell_type": "code",
   "execution_count": 30,
   "id": "4451e9f5",
   "metadata": {},
   "outputs": [
    {
     "name": "stdout",
     "output_type": "stream",
     "text": [
      "Neha\n",
      "25\n",
      "India\n"
     ]
    }
   ],
   "source": [
    "#Dictionary does not support indexing\n",
    "#Dictionary does not allow duplicate keys ; repeated keys atutomatically removed\n",
    "#diff ways of printing\n",
    "dict1 = {\"Name\":\"Neha\", \"Age\":25, \"Country\":\"India\"}\n",
    "#print name value\n",
    "print(dict1[\"Name\"])\n",
    "#print age value\n",
    "print(dict1[\"Age\"])\n",
    "#print country value\n",
    "print(dict1[\"Country\"])\n"
   ]
  },
  {
   "cell_type": "code",
   "execution_count": null,
   "id": "7a8cfeec",
   "metadata": {},
   "outputs": [],
   "source": []
  }
 ],
 "metadata": {
  "kernelspec": {
   "display_name": "Python 3 (ipykernel)",
   "language": "python",
   "name": "python3"
  },
  "language_info": {
   "codemirror_mode": {
    "name": "ipython",
    "version": 3
   },
   "file_extension": ".py",
   "mimetype": "text/x-python",
   "name": "python",
   "nbconvert_exporter": "python",
   "pygments_lexer": "ipython3",
   "version": "3.12.6"
  }
 },
 "nbformat": 4,
 "nbformat_minor": 5
}
