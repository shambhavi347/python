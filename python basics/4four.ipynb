{
 "cells": [
  {
   "cell_type": "code",
   "execution_count": 1,
   "metadata": {},
   "outputs": [],
   "source": [
    "#operators in python\n",
    "# 1) Arithmetic operators\n",
    "# 2) Assignment operators\n",
    "# 3) Comparison operators\n",
    "# 4) Logical operators\n",
    "# 5) Identity operators\n",
    "# 6) Membership operators"
   ]
  },
  {
   "cell_type": "code",
   "execution_count": 3,
   "metadata": {},
   "outputs": [
    {
     "name": "stdout",
     "output_type": "stream",
     "text": [
      "Addition of two numbers is:  30\n",
      "Substraction of two numbers is:  10\n",
      "Multiplication of two numbers is:  200\n",
      "Division of two numbers is:  2.0\n",
      "Modulus of two numbers is:  0\n",
      "Exponent of num1 to the power of num2 is:  10240000000000\n"
     ]
    }
   ],
   "source": [
    "# Arithmetic operators\n",
    "num1 = 20 \n",
    "num2 = 10\n",
    "print(\"Addition of two numbers is: \", num1 + num2)\n",
    "print(\"Substraction of two numbers is: \", num1 - num2)\n",
    "print(\"Multiplication of two numbers is: \", num1 * num2)\n",
    "print(\"Division of two numbers is: \", num1 / num2)\n",
    "print(\"Modulus of two numbers is: \", num1 % num2) \n",
    "print(\"Exponent of num1 to the power of num2 is: \", num1 ** num2)"
   ]
  },
  {
   "cell_type": "code",
   "execution_count": 9,
   "metadata": {},
   "outputs": [
    {
     "name": "stdout",
     "output_type": "stream",
     "text": [
      "Value of a is:  5\n",
      "Value of a is:  10\n",
      "Value of a is:  8\n",
      "Value of a is:  80\n",
      "Value of a is:  16.0\n",
      "Value of a is:  0.0\n"
     ]
    }
   ],
   "source": [
    "# Assignment operators\n",
    "a = 5\n",
    "print(\"Value of a is: \", a)\n",
    "\n",
    "#othr way of assigning value to a variable\n",
    "a += 5\n",
    "print(\"Value of a is: \", a)\n",
    "\n",
    "a -= 2\n",
    "print(\"Value of a is: \", a)\n",
    "\n",
    "a *= 10 \n",
    "print(\"Value of a is: \", a)\n",
    "\n",
    "a /= 5\n",
    "print(\"Value of a is: \", a)\n",
    "\n",
    "a %= 2\n",
    "print(\"Value of a is: \", a)"
   ]
  },
  {
   "cell_type": "code",
   "execution_count": 21,
   "metadata": {},
   "outputs": [
    {
     "name": "stdout",
     "output_type": "stream",
     "text": [
      "True\n",
      "False\n",
      "False\n",
      "False\n",
      "True\n",
      "True\n"
     ]
    }
   ],
   "source": [
    "#Comparision operators\n",
    "a = 5\n",
    "b = 10\n",
    "\n",
    "#Equals\n",
    "print(a == b)\n",
    "\n",
    "#Greater than\n",
    "print(a > b)\n",
    "\n",
    "#Less than\n",
    "print(a < b)\n",
    "\n",
    "#Not equal\n",
    "print(a != b)\n",
    "\n",
    "#Greater than or equal to\n",
    "print(a >= b)\n",
    "\n",
    "#Less than or equal to\n",
    "print(a <= b)"
   ]
  },
  {
   "cell_type": "code",
   "execution_count": 17,
   "metadata": {},
   "outputs": [
    {
     "name": "stdout",
     "output_type": "stream",
     "text": [
      "True\n",
      "False\n",
      "False\n",
      "True\n",
      "False\n"
     ]
    }
   ],
   "source": [
    "#Logical operators\n",
    "#AND, OR , NOT\n",
    "\n",
    "a = 10\n",
    "\n",
    "#and operator\n",
    "print(a > 5 and a < 15)\n",
    "print(a >20 and a >5)\n",
    "\n",
    "#or operator\n",
    "print(a < 5 or a > 15)\n",
    "print(a > 20 or a > 5)\n",
    "\n",
    "#not operator\n",
    "print(not(a > 8 and a > 5))"
   ]
  },
  {
   "cell_type": "code",
   "execution_count": 20,
   "metadata": {},
   "outputs": [
    {
     "name": "stdout",
     "output_type": "stream",
     "text": [
      "True\n",
      "False\n"
     ]
    }
   ],
   "source": [
    "#Identity operators\n",
    "#is, is not\n",
    "#is operator returns true if both variables are the same object\n",
    "#is not operator returns true if both variables are not the same object \n",
    "\n",
    "x = 5\n",
    "y = 5.0 \n",
    "\n",
    "print(x is y) #if we had used == operator it would have returned true\n",
    "print( x is not y)"
   ]
  },
  {
   "cell_type": "code",
   "execution_count": 22,
   "metadata": {},
   "outputs": [
    {
     "name": "stdout",
     "output_type": "stream",
     "text": [
      "True\n",
      "True\n"
     ]
    }
   ],
   "source": [
    "#Membership operators\n",
    "#in, not in\n",
    "\n",
    "a = 5\n",
    "b = 10\n",
    "c = [1, 2, 3, 4, 5]\n",
    "\n",
    "print(a in c)\n",
    "print(b not in c)"
   ]
  },
  {
   "cell_type": "code",
   "execution_count": null,
   "metadata": {},
   "outputs": [],
   "source": []
  }
 ],
 "metadata": {
  "kernelspec": {
   "display_name": "Python 3",
   "language": "python",
   "name": "python3"
  },
  "language_info": {
   "codemirror_mode": {
    "name": "ipython",
    "version": 3
   },
   "file_extension": ".py",
   "mimetype": "text/x-python",
   "name": "python",
   "nbconvert_exporter": "python",
   "pygments_lexer": "ipython3",
   "version": "3.12.6"
  }
 },
 "nbformat": 4,
 "nbformat_minor": 2
}
